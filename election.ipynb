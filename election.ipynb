{
 "cells": [
  {
   "cell_type": "code",
   "execution_count": 48,
   "metadata": {},
   "outputs": [
    {
     "name": "stdout",
     "output_type": "stream",
     "text": [
      "Instructions/PyPoll/Resources\\election_data.csv\n",
      "total: 3521000\n",
      "khan:%63.0|2218230\n",
      "correy:%20.0|704200\n",
      "Li:%14.000000000000002|492940\n",
      "otooley:%3.0|105630\n",
      "winner: khan\n"
     ]
    }
   ],
   "source": [
    "import os\n",
    "import csv\n",
    "#importing the csv file\n",
    "csvfile=os.path.join('Instructions/PyPoll/Resources','election_data.csv')\n",
    "print(csvfile)\n",
    "\n",
    "#defining the initial values\n",
    "total=0\n",
    "khan=0\n",
    "correy=0\n",
    "Li=0\n",
    "otooley=0\n",
    "winner=\"otooley\"\n",
    "\n",
    "with open(csvfile) as election:\n",
    "        electioncsvreader=csv.reader(election,delimiter=\",\")\n",
    "#headers        \n",
    "        header = next(electioncsvreader)\n",
    "        #print(header)\n",
    "#it will add 1 to the candidate name varialbe to each time that it see the associated candidate        \n",
    "        firstrow=next(electioncsvreader)\n",
    "        for row in electioncsvreader:\n",
    "            total=total+1\n",
    "            if row[2]==\"Khan\":\n",
    "                khan=khan+1   \n",
    "        \n",
    "            elif row[2]==\"Correy\":\n",
    "                correy=correy+1\n",
    "            elif row[2]==\"Li\":\n",
    "                Li=Li+1\n",
    "            else:\n",
    "                otooley=otooley+1\n",
    "\n",
    "#calculating the percentages\n",
    "            percentkhan=((khan/total)*100)\n",
    "            percentcorrey=((correy/total)*100)\n",
    "            percentLi=((Li/total)*100)\n",
    "            percentotooley=((otooley/total)*100)\n",
    "            \n",
    "#finding the candidate with highest votes            \n",
    "            if percentLi>percentcorrey and percentLi>percentcorrey and percentLi>percentkhan:\n",
    "                winner=\"Li\"\n",
    "            elif percentkhan>percentcorrey and percentkhan>percentotooley and percentkhan>percentotooley:\n",
    "                winner=\"khan\"\n",
    "            elif percentcorrey>percentkhan and percentcorrey>percentLi and percentcorrey>percentotooley:\n",
    "                winner=\"correy\"\n",
    "            \n",
    "#printig all the data  \n",
    "   \n",
    "print(f\"total: {(total)}\")\n",
    "print(\"khan:\"+ \"%\"+ str(percentkhan) + \"|\" +str(khan))\n",
    "print(\"correy:\"+ \"%\"+ str(percentcorrey) + \"|\" +str(correy))\n",
    "print(\"Li:\"+ \"%\"+ str(percentLi) + \"|\" +str(Li))\n",
    "print(\"otooley:\"+ \"%\"+ str(percentotooley) + \"|\" +str(otooley))\n",
    "print(f\"winner: {(winner)}\")\n",
    "      "
   ]
  },
  {
   "cell_type": "code",
   "execution_count": null,
   "metadata": {},
   "outputs": [],
   "source": []
  },
  {
   "cell_type": "code",
   "execution_count": null,
   "metadata": {},
   "outputs": [],
   "source": []
  }
 ],
 "metadata": {
  "kernelspec": {
   "display_name": "Python 3",
   "language": "python",
   "name": "python3"
  },
  "language_info": {
   "codemirror_mode": {
    "name": "ipython",
    "version": 3
   },
   "file_extension": ".py",
   "mimetype": "text/x-python",
   "name": "python",
   "nbconvert_exporter": "python",
   "pygments_lexer": "ipython3",
   "version": "3.7.0"
  }
 },
 "nbformat": 4,
 "nbformat_minor": 2
}
