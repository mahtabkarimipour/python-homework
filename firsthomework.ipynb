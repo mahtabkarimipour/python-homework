{
 "cells": [
  {
   "cell_type": "code",
   "execution_count": 88,
   "metadata": {},
   "outputs": [
    {
     "name": "stdout",
     "output_type": "stream",
     "text": [
      "Instructions/PyBank/Resources\\budget_data.csv\n",
      "totalmonths: 86\n",
      "total:$38382578\n",
      "average change:$-2315.12\n",
      "Greatest Increase in Profits:$1926159|24\n",
      "Greatest decrease in Profits:$-2196167|43\n"
     ]
    }
   ],
   "source": [
    "import os\n",
    "\n",
    "import csv\n",
    "\n",
    "csvfile=os.path.join('Instructions/PyBank/Resources','budget_data.csv')\n",
    "print(csvfile)\n",
    "#defining the initial variables\n",
    "\n",
    "totalmonths=0\n",
    "total=0\n",
    "#init_value = int(firstrow[1])\n",
    "change=[]\n",
    "    \n",
    "with open(csvfile) as budget:\n",
    "    budgetcsvreader=csv.reader(budget,delimiter=\",\")\n",
    "#header    \n",
    "    header = next(budgetcsvreader)\n",
    "    first_row=next(budgetcsvreader)\n",
    "    total=total+int(first_row[1])\n",
    "    totalmonths=totalmonths+1\n",
    "    init_value = int(firstrow[1])    \n",
    "    for row in budgetcsvreader:\n",
    "        \n",
    "        #print(row[1])\n",
    "        totalmonths=totalmonths+1\n",
    "   \n",
    "        total=total+int(row[1])\n",
    "\n",
    "        change.append (int(row[1]) - init_value)\n",
    "        init_value = int(row[1])\n",
    "        \n",
    "        \n",
    "avg=round((sum(change)/85),2)       \n",
    "#finding max and min \n",
    "Greatest_Increase=max(change)\n",
    "Greatest_decrease=min(change)\n",
    "\n",
    "#printing all the data\n",
    "\n",
    "print(f\"totalmonths: {(totalmonths)}\")\n",
    "print(\"total:\"+ \"$\"+ str(total)) \n",
    "print(\"average change:\"+ \"$\"+ str(avg))\n",
    "print(\"Greatest Increase in Profits:\"+ \"$\"+ str(Greatest_Increase)+ \"|\"+str(change.index(Greatest_Increase)))\n",
    "print(\"Greatest decrease in Profits:\"+ \"$\"+ str(Greatest_decrease)+ \"|\"+str(change.index(Greatest_decrease)))\n"
   ]
  },
  {
   "cell_type": "code",
   "execution_count": null,
   "metadata": {},
   "outputs": [],
   "source": []
  },
  {
   "cell_type": "code",
   "execution_count": null,
   "metadata": {},
   "outputs": [],
   "source": []
  }
 ],
 "metadata": {
  "kernelspec": {
   "display_name": "Python 3",
   "language": "python",
   "name": "python3"
  },
  "language_info": {
   "codemirror_mode": {
    "name": "ipython",
    "version": 3
   },
   "file_extension": ".py",
   "mimetype": "text/x-python",
   "name": "python",
   "nbconvert_exporter": "python",
   "pygments_lexer": "ipython3",
   "version": "3.7.0"
  }
 },
 "nbformat": 4,
 "nbformat_minor": 2
}
